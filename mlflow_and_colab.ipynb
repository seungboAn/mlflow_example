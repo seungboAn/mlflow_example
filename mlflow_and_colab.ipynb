{
 "cells": [
  {
   "cell_type": "code",
   "execution_count": null,
   "metadata": {},
   "outputs": [],
   "source": [
    "# Step 1: Installing MLflow and Dependencies\n",
    "!pip install mlflow -q\n",
    "!pip install pyngrok -q\n",
    "\n",
    "# Step 2: Starting the MLflow Server\n",
    "import mlflow\n",
    "import subprocess\n",
    "from pyngrok import ngrok, conf\n",
    "\n",
    "# Define the MLflow tracking URI with SQLite\n",
    "MLFLOW_TRACKING_URI = \"sqlite:///mlflow.db\"\n",
    "\n",
    "# Start the MLflow server using subprocess\n",
    "subprocess.Popen([\"mlflow\", \"ui\", \"--backend-store-uri\", MLFLOW_TRACKING_URI, \"--port\", \"5000\"])\n",
    "\n",
    "# Set MLflow tracking URI\n",
    "mlflow.set_tracking_uri(MLFLOW_TRACKING_URI)\n",
    "\n",
    "# Set or create an experiment\n",
    "mlflow.set_experiment(\"Iris Prediction\")\n",
    "\n",
    "# Set up ngrok for exposing the MLflow UI\n",
    "print(\"Enter your authtoken, which can be copied from https://dashboard.ngrok.com/auth\")\n",
    "conf.get_default().auth_token = \"Enter your authtoken\"\n",
    "\n",
    "# Expose the MLflow UI on port 5000\n",
    "port = 5000\n",
    "public_url = ngrok.connect(port).public_url\n",
    "print(f' * ngrok tunnel \"{public_url}\" -> \"http://127.0.0.1:{port}\"')\n",
    "\n",
    "# Start an MLflow run\n",
    "with mlflow.start_run():\n",
    "    # Log parameters and metrics\n",
    "    mlflow.log_param(\"learning_rate\", 0.01)\n",
    "    mlflow.log_metric(\"rmse\", 0.25)\n",
    "    print(\"Run logged successfully!\")"
   ]
  }
 ],
 "metadata": {
  "language_info": {
   "name": "python"
  }
 },
 "nbformat": 4,
 "nbformat_minor": 2
}
